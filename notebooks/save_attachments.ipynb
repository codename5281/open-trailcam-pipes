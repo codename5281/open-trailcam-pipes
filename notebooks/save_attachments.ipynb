{
 "cells": [
  {
   "cell_type": "code",
   "execution_count": 28,
   "metadata": {},
   "outputs": [],
   "source": [
    "from os import path\n",
    "import imap_tools\n",
    "from imap_tools import MailBox, AND\n",
    "import pandas as pd\n",
    "import datetime\n",
    "from datetime import datetime as dt\n",
    "from PIL import Image\n",
    "import plotly.express as px\n",
    "import config"
   ]
  },
  {
   "cell_type": "code",
   "execution_count": 29,
   "metadata": {},
   "outputs": [],
   "source": [
    "camera_id = \"Camera_trap_1\"\n",
    "mail_folder = camera_id+\"/inbox\"\n",
    "mail_folder_treated = camera_id+\"/treated\""
   ]
  },
  {
   "cell_type": "code",
   "execution_count": 30,
   "metadata": {},
   "outputs": [],
   "source": [
    "data_path = \"../data/\"+camera_id\n",
    "\n",
    "if not path.exists(data_path) :\n",
    "    print(\"Project folder does not exist. Creating\",data_path)\n",
    "    os.mkdir(data_path)"
   ]
  },
  {
   "cell_type": "code",
   "execution_count": 31,
   "metadata": {},
   "outputs": [],
   "source": [
    "def get_date_taken(path):\n",
    "    return Image.open(path)._getexif()[36867]"
   ]
  },
  {
   "cell_type": "code",
   "execution_count": 32,
   "metadata": {},
   "outputs": [
    {
     "name": "stdout",
     "output_type": "stream",
     "text": [
      "Database file found, loading existing for completion\n"
     ]
    }
   ],
   "source": [
    "# instantiate result dataframe\n",
    "if not path.exists(data_path+\"/database.csv\") :\n",
    "    print(\"Database file not found, creating one\")\n",
    "    results = pd.DataFrame()\n",
    "else :\n",
    "    print(\"Database file found, loading existing for completion\")\n",
    "    results = pd.read_csv(data_path+\"/database.csv\", index_col=[0])\n",
    "    results[\"date_picture\"] = results.apply(lambda x: dt.strptime(x[\"date_picture\"], \"%Y-%m-%d %H:%M:%S\"), axis=1)\n",
    "\n",
    "# connecting to mailbox\n",
    "with MailBox(config.server).login(config.address, config.password, mail_folder) as mailbox:\n",
    "\n",
    "    # we scan all messages on the mail_folder\n",
    "    for msg in mailbox.fetch():\n",
    "        \n",
    "        # if there is more than one attached file, we raise an Exception\n",
    "        if len(msg.attachments)>1:\n",
    "            raise Exception(\"There is multiple attachments to this mail\")\n",
    "\n",
    "        # we scan each attached file of each mail\n",
    "        for att in msg.attachments:\n",
    "            \n",
    "            # and extract information only when attached file has a .JPG extension\n",
    "            if att.filename.endswith(\".JPG\"):\n",
    "                \n",
    "                # saving file\n",
    "                try:\n",
    "                    print(att.filename, att.content_type)\n",
    "                    filename = data_path + '/' + str(msg.date.date()) + \"_\" + att.filename\n",
    "                    with open(filename, 'wb') as f:\n",
    "                        f.write(att.payload)\n",
    "                except:\n",
    "                    raise Warning(\"Something went wrong with file saving\")\n",
    "\n",
    "                # extracting metadata    \n",
    "                try:\n",
    "                    date_taken = dt.strptime(get_date_taken(filename), \"%Y:%m:%d %H:%M:%S\")\n",
    "                    battery = float(msg.text.split(\"\\r\\n\")[1].split(\":\")[1].replace(\"%\",\"\"))\n",
    "\n",
    "                    # concatenating into output dataframe\n",
    "                    results = pd.concat([results, pd.DataFrame({\"subject\":msg.subject, \"text\":msg.text, \"date_picture\":date_taken, \"battery\":battery, \"filename\":filename}, index=[0])])\n",
    "                \n",
    "                except:\n",
    "                    print(\"Something went wrong with date taken or battery level extraction, did not save line\")\n",
    "                    pass\n",
    "                    \n",
    "\n",
    "    # flagging all messages of the folder as SEEN\n",
    "    flags = (imap_tools.MailMessageFlags.SEEN)\n",
    "    mailbox.flag(mailbox.uids(AND(seen=False)), flags, True)\n",
    "\n",
    "    # MOVE all messages from current folder to INBOX/folder2\n",
    "    mailbox.move(mailbox.uids(), mail_folder_treated)\n",
    "\n",
    "results = results.reset_index(drop=True)\n",
    "results.to_csv(data_path+\"/database.csv\")"
   ]
  },
  {
   "cell_type": "code",
   "execution_count": 33,
   "metadata": {},
   "outputs": [
    {
     "data": {
      "text/html": [
       "<div>\n",
       "<style scoped>\n",
       "    .dataframe tbody tr th:only-of-type {\n",
       "        vertical-align: middle;\n",
       "    }\n",
       "\n",
       "    .dataframe tbody tr th {\n",
       "        vertical-align: top;\n",
       "    }\n",
       "\n",
       "    .dataframe thead th {\n",
       "        text-align: right;\n",
       "    }\n",
       "</style>\n",
       "<table border=\"1\" class=\"dataframe\">\n",
       "  <thead>\n",
       "    <tr style=\"text-align: right;\">\n",
       "      <th></th>\n",
       "      <th>subject</th>\n",
       "      <th>text</th>\n",
       "      <th>date_picture</th>\n",
       "      <th>battery</th>\n",
       "      <th>filename</th>\n",
       "    </tr>\n",
       "  </thead>\n",
       "  <tbody>\n",
       "    <tr>\n",
       "      <th>0</th>\n",
       "      <td>BST886-4G-04/09 13:40-IMAG0174</td>\n",
       "      <td>[Instant]I got 44 pictures.Good luck! [44/100]...</td>\n",
       "      <td>2022-04-09 13:40:12</td>\n",
       "      <td>65.0</td>\n",
       "      <td>NaN</td>\n",
       "    </tr>\n",
       "    <tr>\n",
       "      <th>1</th>\n",
       "      <td>BST886-4G-04/09 13:35-IMAG0173</td>\n",
       "      <td>[Instant]I got 43 pictures.Good luck! [43/100]...</td>\n",
       "      <td>2022-04-09 13:35:12</td>\n",
       "      <td>65.0</td>\n",
       "      <td>NaN</td>\n",
       "    </tr>\n",
       "    <tr>\n",
       "      <th>2</th>\n",
       "      <td>BST886-4G-04/09 13:30-IMAG0172</td>\n",
       "      <td>[Instant]I got 42 pictures.Good luck! [42/100]...</td>\n",
       "      <td>2022-04-09 13:30:11</td>\n",
       "      <td>65.0</td>\n",
       "      <td>NaN</td>\n",
       "    </tr>\n",
       "    <tr>\n",
       "      <th>3</th>\n",
       "      <td>BST886-4G-04/09 13:25-IMAG0171</td>\n",
       "      <td>[Instant]I got 41 pictures.Good luck! [41/100]...</td>\n",
       "      <td>2022-04-09 13:25:14</td>\n",
       "      <td>65.0</td>\n",
       "      <td>NaN</td>\n",
       "    </tr>\n",
       "    <tr>\n",
       "      <th>4</th>\n",
       "      <td>BST886-4G-04/09 13:20-IMAG0170</td>\n",
       "      <td>[Instant]I got 40 pictures.Good luck! [40/100]...</td>\n",
       "      <td>2022-04-09 13:20:12</td>\n",
       "      <td>65.0</td>\n",
       "      <td>NaN</td>\n",
       "    </tr>\n",
       "    <tr>\n",
       "      <th>...</th>\n",
       "      <td>...</td>\n",
       "      <td>...</td>\n",
       "      <td>...</td>\n",
       "      <td>...</td>\n",
       "      <td>...</td>\n",
       "    </tr>\n",
       "    <tr>\n",
       "      <th>126</th>\n",
       "      <td>BST886-4G-01/01 00:25-IMAG0001</td>\n",
       "      <td>[Instant]I got a picture.Good luck! [1/100]\\r\\...</td>\n",
       "      <td>2021-01-01 00:25:16</td>\n",
       "      <td>92.0</td>\n",
       "      <td>NaN</td>\n",
       "    </tr>\n",
       "    <tr>\n",
       "      <th>127</th>\n",
       "      <td>BST886-4G-04/07 09:25-IMAG0004</td>\n",
       "      <td>[Instant]I got 2 pictures.Good luck! [2/100]\\r...</td>\n",
       "      <td>2021-04-07 09:25:03</td>\n",
       "      <td>53.0</td>\n",
       "      <td>NaN</td>\n",
       "    </tr>\n",
       "    <tr>\n",
       "      <th>128</th>\n",
       "      <td>BST886-4G-04/07 09:17-IMAG0002</td>\n",
       "      <td>[Instant]I got a picture.Good luck! [1/100]\\r\\...</td>\n",
       "      <td>2021-04-07 09:16:59</td>\n",
       "      <td>52.0</td>\n",
       "      <td>NaN</td>\n",
       "    </tr>\n",
       "    <tr>\n",
       "      <th>129</th>\n",
       "      <td>BST886-4G-04/09 20:16-IMAG0175</td>\n",
       "      <td>[Instant]I got 45 pictures.Good luck! [45/100]...</td>\n",
       "      <td>2022-04-09 20:16:04</td>\n",
       "      <td>66.0</td>\n",
       "      <td>NaN</td>\n",
       "    </tr>\n",
       "    <tr>\n",
       "      <th>130</th>\n",
       "      <td>BST886-4G-04/09 20:21-IMAG0176</td>\n",
       "      <td>[Instant]I got 46 pictures.Good luck! [46/100]...</td>\n",
       "      <td>2022-04-09 20:21:12</td>\n",
       "      <td>68.0</td>\n",
       "      <td>../data/Camera_trap_1/2022-04-09_IMAG0176.JPG</td>\n",
       "    </tr>\n",
       "  </tbody>\n",
       "</table>\n",
       "<p>131 rows × 5 columns</p>\n",
       "</div>"
      ],
      "text/plain": [
       "                            subject  \\\n",
       "0    BST886-4G-04/09 13:40-IMAG0174   \n",
       "1    BST886-4G-04/09 13:35-IMAG0173   \n",
       "2    BST886-4G-04/09 13:30-IMAG0172   \n",
       "3    BST886-4G-04/09 13:25-IMAG0171   \n",
       "4    BST886-4G-04/09 13:20-IMAG0170   \n",
       "..                              ...   \n",
       "126  BST886-4G-01/01 00:25-IMAG0001   \n",
       "127  BST886-4G-04/07 09:25-IMAG0004   \n",
       "128  BST886-4G-04/07 09:17-IMAG0002   \n",
       "129  BST886-4G-04/09 20:16-IMAG0175   \n",
       "130  BST886-4G-04/09 20:21-IMAG0176   \n",
       "\n",
       "                                                  text        date_picture  \\\n",
       "0    [Instant]I got 44 pictures.Good luck! [44/100]... 2022-04-09 13:40:12   \n",
       "1    [Instant]I got 43 pictures.Good luck! [43/100]... 2022-04-09 13:35:12   \n",
       "2    [Instant]I got 42 pictures.Good luck! [42/100]... 2022-04-09 13:30:11   \n",
       "3    [Instant]I got 41 pictures.Good luck! [41/100]... 2022-04-09 13:25:14   \n",
       "4    [Instant]I got 40 pictures.Good luck! [40/100]... 2022-04-09 13:20:12   \n",
       "..                                                 ...                 ...   \n",
       "126  [Instant]I got a picture.Good luck! [1/100]\\r\\... 2021-01-01 00:25:16   \n",
       "127  [Instant]I got 2 pictures.Good luck! [2/100]\\r... 2021-04-07 09:25:03   \n",
       "128  [Instant]I got a picture.Good luck! [1/100]\\r\\... 2021-04-07 09:16:59   \n",
       "129  [Instant]I got 45 pictures.Good luck! [45/100]... 2022-04-09 20:16:04   \n",
       "130  [Instant]I got 46 pictures.Good luck! [46/100]... 2022-04-09 20:21:12   \n",
       "\n",
       "     battery                                       filename  \n",
       "0       65.0                                            NaN  \n",
       "1       65.0                                            NaN  \n",
       "2       65.0                                            NaN  \n",
       "3       65.0                                            NaN  \n",
       "4       65.0                                            NaN  \n",
       "..       ...                                            ...  \n",
       "126     92.0                                            NaN  \n",
       "127     53.0                                            NaN  \n",
       "128     52.0                                            NaN  \n",
       "129     66.0                                            NaN  \n",
       "130     68.0  ../data/Camera_trap_1/2022-04-09_IMAG0176.JPG  \n",
       "\n",
       "[131 rows x 5 columns]"
      ]
     },
     "execution_count": 33,
     "metadata": {},
     "output_type": "execute_result"
    }
   ],
   "source": [
    "results"
   ]
  },
  {
   "cell_type": "code",
   "execution_count": 34,
   "metadata": {},
   "outputs": [],
   "source": [
    "arr_date = results[\"date_picture\"].dt.to_pydatetime()\n",
    "results['date_picture']= pd.Series(arr_date, dtype=object)\n",
    "results[\"battery\"] = results.apply(lambda x: float(x[\"battery\"]), axis=1)"
   ]
  },
  {
   "cell_type": "code",
   "execution_count": 35,
   "metadata": {},
   "outputs": [],
   "source": [
    "results = results[results[\"date_picture\"] > datetime.datetime(2022,1,1,0,0,0)]"
   ]
  },
  {
   "cell_type": "code",
   "execution_count": 36,
   "metadata": {},
   "outputs": [
    {
     "data": {
      "application/vnd.plotly.v1+json": {
       "config": {
        "plotlyServerURL": "https://plot.ly"
       },
       "data": [
        {
         "hovertemplate": "date_picture=%{x}<br>battery=%{y}<extra></extra>",
         "legendgroup": "",
         "marker": {
          "color": "#636efa",
          "symbol": "circle"
         },
         "mode": "markers",
         "name": "",
         "orientation": "v",
         "showlegend": false,
         "type": "scatter",
         "x": [
          "2022-04-09T13:40:12",
          "2022-04-09T13:35:12",
          "2022-04-09T13:30:11",
          "2022-04-09T13:25:14",
          "2022-04-09T13:20:12",
          "2022-04-09T13:15:11",
          "2022-04-09T13:10:14",
          "2022-04-09T13:05:14",
          "2022-04-09T13:00:12",
          "2022-04-09T12:55:12",
          "2022-04-09T12:50:11",
          "2022-04-09T12:45:12",
          "2022-04-09T12:40:11",
          "2022-04-09T12:35:12",
          "2022-04-09T12:30:11",
          "2022-04-09T12:25:11",
          "2022-04-09T12:20:12",
          "2022-04-09T12:15:12",
          "2022-04-09T12:10:11",
          "2022-04-09T12:05:12",
          "2022-04-09T12:00:12",
          "2022-04-09T11:55:12",
          "2022-04-09T11:50:12",
          "2022-04-09T11:45:12",
          "2022-04-09T11:40:11",
          "2022-04-09T11:35:12",
          "2022-04-09T11:30:12",
          "2022-04-09T11:25:12",
          "2022-04-09T11:20:12",
          "2022-04-09T11:10:12",
          "2022-04-09T11:05:11",
          "2022-04-09T11:00:12",
          "2022-04-09T10:55:12",
          "2022-04-09T10:50:11",
          "2022-04-09T10:45:12",
          "2022-04-09T10:40:11",
          "2022-04-09T10:35:11",
          "2022-04-09T10:30:11",
          "2022-04-09T10:25:11",
          "2022-04-09T10:20:11",
          "2022-04-09T10:15:11",
          "2022-04-09T10:10:12",
          "2022-04-09T10:05:11",
          "2022-04-09T10:00:11",
          "2022-04-09T09:20:12",
          "2022-04-09T09:14:22",
          "2022-04-09T09:10:10",
          "2022-04-09T09:00:14",
          "2022-04-09T08:59:07",
          "2022-04-08T18:41:49",
          "2022-04-08T18:22:11",
          "2022-04-08T18:20:11",
          "2022-04-08T18:15:12",
          "2022-04-08T18:10:12",
          "2022-04-08T17:45:12",
          "2022-04-08T17:40:11",
          "2022-04-08T17:35:24",
          "2022-04-08T17:17:10",
          "2022-04-08T17:15:12",
          "2022-04-08T17:10:12",
          "2022-04-08T17:05:11",
          "2022-04-08T17:00:11",
          "2022-04-08T16:55:12",
          "2022-04-08T16:50:11",
          "2022-04-08T16:45:11",
          "2022-04-08T16:40:12",
          "2022-04-08T16:35:11",
          "2022-04-08T16:30:12",
          "2022-04-08T16:25:12",
          "2022-04-08T16:20:12",
          "2022-04-08T16:15:12",
          "2022-04-08T16:10:12",
          "2022-04-08T16:06:29",
          "2022-04-08T16:05:08",
          "2022-04-08T15:40:11",
          "2022-04-08T15:35:12",
          "2022-04-08T15:30:02",
          "2022-04-08T15:17:29",
          "2022-04-08T15:03:31",
          "2022-04-08T14:48:42",
          "2022-04-08T14:30:03",
          "2022-04-08T14:15:04",
          "2022-04-08T14:00:03",
          "2022-04-08T13:45:37",
          "2022-04-08T13:30:02",
          "2022-04-08T13:15:02",
          "2022-04-08T13:00:02",
          "2022-04-08T12:45:02",
          "2022-04-08T12:30:02",
          "2022-04-08T12:15:02",
          "2022-04-08T12:00:02",
          "2022-04-08T11:45:10",
          "2022-04-08T11:30:04",
          "2022-04-08T11:15:02",
          "2022-04-08T11:00:03",
          "2022-04-08T10:45:02",
          "2022-04-08T10:30:02",
          "2022-04-08T10:15:02",
          "2022-04-08T10:00:02",
          "2022-04-08T09:45:04",
          "2022-04-08T09:32:24",
          "2022-04-08T09:15:05",
          "2022-04-08T09:02:21",
          "2022-04-08T08:49:40",
          "2022-04-08T08:31:44",
          "2022-04-08T08:15:04",
          "2022-04-07T20:49:10",
          "2022-04-07T20:47:19",
          "2022-04-07T20:45:56",
          "2022-04-07T20:30:03",
          "2022-04-07T20:15:02",
          "2022-04-07T20:01:10",
          "2022-04-07T19:45:03",
          "2022-04-07T19:34:03",
          "2022-04-07T19:19:02",
          "2022-04-07T19:05:04",
          "2022-04-07T18:42:20",
          "2022-04-07T18:26:11",
          "2022-04-07T18:22:17",
          "2022-04-07T18:05:20",
          "2022-04-07T18:02:22",
          "2022-04-07T17:59:06",
          "2022-04-07T17:58:50",
          "2022-04-07T17:55:54",
          "2022-04-09T20:16:04",
          "2022-04-09T20:21:12"
         ],
         "xaxis": "x",
         "y": [
          65,
          65,
          65,
          65,
          65,
          65,
          65,
          66,
          66,
          66,
          66,
          66,
          66,
          66,
          66,
          66,
          66,
          66,
          67,
          67,
          67,
          67,
          66,
          67,
          67,
          67,
          67,
          67,
          68,
          67,
          67,
          68,
          68,
          68,
          68,
          68,
          68,
          68,
          68,
          68,
          68,
          68,
          68,
          67,
          71,
          67,
          71,
          70,
          73,
          71,
          72,
          73,
          73,
          74,
          73,
          74,
          74,
          73,
          74,
          74,
          74,
          74,
          74,
          74,
          74,
          75,
          75,
          75,
          75,
          75,
          75,
          75,
          73,
          75,
          77,
          78,
          76,
          77,
          77,
          77,
          77,
          78,
          78,
          78,
          78,
          78,
          79,
          78,
          79,
          79,
          79,
          79,
          79,
          79,
          79,
          79,
          80,
          80,
          80,
          80,
          81,
          80,
          81,
          81,
          82,
          82,
          80,
          80,
          80,
          80,
          81,
          81,
          81,
          81,
          79,
          82,
          83,
          85,
          84,
          85,
          85,
          85,
          86,
          86,
          66,
          68
         ],
         "yaxis": "y"
        },
        {
         "hovertemplate": "<b>Rolling mean trendline</b><br><br>date_picture=%{x}<br>battery=%{y} <b>(trend)</b><extra></extra>",
         "legendgroup": "",
         "marker": {
          "color": "#636efa",
          "symbol": "circle"
         },
         "mode": "lines",
         "name": "",
         "showlegend": false,
         "type": "scatter",
         "x": [
          "2022-04-07T17:55:54",
          "2022-04-07T17:58:50",
          "2022-04-07T17:59:06",
          "2022-04-07T18:02:22",
          "2022-04-07T18:05:20",
          "2022-04-07T18:22:17",
          "2022-04-07T18:26:11",
          "2022-04-07T18:42:20",
          "2022-04-07T19:05:04",
          "2022-04-07T19:19:02",
          "2022-04-07T19:34:03",
          "2022-04-07T19:45:03",
          "2022-04-07T20:01:10",
          "2022-04-07T20:15:02",
          "2022-04-07T20:30:03",
          "2022-04-07T20:45:56",
          "2022-04-07T20:47:19",
          "2022-04-07T20:49:10",
          "2022-04-08T08:15:04",
          "2022-04-08T08:31:44",
          "2022-04-08T08:49:40",
          "2022-04-08T09:02:21",
          "2022-04-08T09:15:05",
          "2022-04-08T09:32:24",
          "2022-04-08T09:45:04",
          "2022-04-08T10:00:02",
          "2022-04-08T10:15:02",
          "2022-04-08T10:30:02",
          "2022-04-08T10:45:02",
          "2022-04-08T11:00:03",
          "2022-04-08T11:15:02",
          "2022-04-08T11:30:04",
          "2022-04-08T11:45:10",
          "2022-04-08T12:00:02",
          "2022-04-08T12:15:02",
          "2022-04-08T12:30:02",
          "2022-04-08T12:45:02",
          "2022-04-08T13:00:02",
          "2022-04-08T13:15:02",
          "2022-04-08T13:30:02",
          "2022-04-08T13:45:37",
          "2022-04-08T14:00:03",
          "2022-04-08T14:15:04",
          "2022-04-08T14:30:03",
          "2022-04-08T14:48:42",
          "2022-04-08T15:03:31",
          "2022-04-08T15:17:29",
          "2022-04-08T15:30:02",
          "2022-04-08T15:35:12",
          "2022-04-08T15:40:11",
          "2022-04-08T16:05:08",
          "2022-04-08T16:06:29",
          "2022-04-08T16:10:12",
          "2022-04-08T16:15:12",
          "2022-04-08T16:20:12",
          "2022-04-08T16:25:12",
          "2022-04-08T16:30:12",
          "2022-04-08T16:35:11",
          "2022-04-08T16:40:12",
          "2022-04-08T16:45:11",
          "2022-04-08T16:50:11",
          "2022-04-08T16:55:12",
          "2022-04-08T17:00:11",
          "2022-04-08T17:05:11",
          "2022-04-08T17:10:12",
          "2022-04-08T17:15:12",
          "2022-04-08T17:17:10",
          "2022-04-08T17:35:24",
          "2022-04-08T17:40:11",
          "2022-04-08T17:45:12",
          "2022-04-08T18:10:12",
          "2022-04-08T18:15:12",
          "2022-04-08T18:20:11",
          "2022-04-08T18:22:11",
          "2022-04-08T18:41:49",
          "2022-04-09T08:59:07",
          "2022-04-09T09:00:14",
          "2022-04-09T09:10:10",
          "2022-04-09T09:14:22",
          "2022-04-09T09:20:12",
          "2022-04-09T10:00:11",
          "2022-04-09T10:05:11",
          "2022-04-09T10:10:12",
          "2022-04-09T10:15:11",
          "2022-04-09T10:20:11",
          "2022-04-09T10:25:11",
          "2022-04-09T10:30:11",
          "2022-04-09T10:35:11",
          "2022-04-09T10:40:11",
          "2022-04-09T10:45:12",
          "2022-04-09T10:50:11",
          "2022-04-09T10:55:12",
          "2022-04-09T11:00:12",
          "2022-04-09T11:05:11",
          "2022-04-09T11:10:12",
          "2022-04-09T11:20:12",
          "2022-04-09T11:25:12",
          "2022-04-09T11:30:12",
          "2022-04-09T11:35:12",
          "2022-04-09T11:40:11",
          "2022-04-09T11:45:12",
          "2022-04-09T11:50:12",
          "2022-04-09T11:55:12",
          "2022-04-09T12:00:12",
          "2022-04-09T12:05:12",
          "2022-04-09T12:10:11",
          "2022-04-09T12:15:12",
          "2022-04-09T12:20:12",
          "2022-04-09T12:25:11",
          "2022-04-09T12:30:11",
          "2022-04-09T12:35:12",
          "2022-04-09T12:40:11",
          "2022-04-09T12:45:12",
          "2022-04-09T12:50:11",
          "2022-04-09T12:55:12",
          "2022-04-09T13:00:12",
          "2022-04-09T13:05:14",
          "2022-04-09T13:10:14",
          "2022-04-09T13:15:11",
          "2022-04-09T13:20:12",
          "2022-04-09T13:25:14",
          "2022-04-09T13:30:11",
          "2022-04-09T13:35:12",
          "2022-04-09T13:40:12",
          "2022-04-09T20:16:04",
          "2022-04-09T20:21:12"
         ],
         "xaxis": "x",
         "y": [
          null,
          null,
          null,
          null,
          85.4,
          85,
          84.8,
          84.4,
          83.8,
          82.6,
          82,
          81.2,
          80.8,
          80.6,
          80.8,
          80.6,
          80.4,
          80.2,
          80.4,
          80.8,
          81,
          81.2,
          81.2,
          81,
          80.6,
          80.4,
          80.2,
          80.2,
          79.8,
          79.6,
          79.4,
          79.2,
          79,
          79,
          79,
          79,
          78.8,
          78.8,
          78.6,
          78.4,
          78.2,
          78.2,
          78,
          77.8,
          77.6,
          77.4,
          77.2,
          76.8,
          77,
          77,
          76.6,
          75.8,
          75.6,
          75,
          74.6,
          74.6,
          75,
          75,
          75,
          74.8,
          74.6,
          74.4,
          74.2,
          74,
          74,
          74,
          73.8,
          73.8,
          73.8,
          73.6,
          73.6,
          73.6,
          73.4,
          73,
          72.6,
          72.4,
          71.8,
          71.4,
          70.4,
          70.4,
          69.2,
          68.8,
          68.2,
          68.4,
          67.8,
          68,
          68,
          68,
          68,
          68,
          68,
          68,
          68,
          67.8,
          67.6,
          67.6,
          67.4,
          67.2,
          67.2,
          67.2,
          67,
          66.8,
          66.8,
          66.8,
          66.8,
          66.8,
          66.8,
          66.6,
          66.4,
          66.2,
          66,
          66,
          66,
          66,
          66,
          66,
          66,
          65.8,
          65.6,
          65.4,
          65.2,
          65,
          65,
          65,
          65.2,
          65.8
         ],
         "yaxis": "y"
        }
       ],
       "layout": {
        "legend": {
         "tracegroupgap": 0
        },
        "template": {
         "data": {
          "bar": [
           {
            "error_x": {
             "color": "#2a3f5f"
            },
            "error_y": {
             "color": "#2a3f5f"
            },
            "marker": {
             "line": {
              "color": "#E5ECF6",
              "width": 0.5
             },
             "pattern": {
              "fillmode": "overlay",
              "size": 10,
              "solidity": 0.2
             }
            },
            "type": "bar"
           }
          ],
          "barpolar": [
           {
            "marker": {
             "line": {
              "color": "#E5ECF6",
              "width": 0.5
             },
             "pattern": {
              "fillmode": "overlay",
              "size": 10,
              "solidity": 0.2
             }
            },
            "type": "barpolar"
           }
          ],
          "carpet": [
           {
            "aaxis": {
             "endlinecolor": "#2a3f5f",
             "gridcolor": "white",
             "linecolor": "white",
             "minorgridcolor": "white",
             "startlinecolor": "#2a3f5f"
            },
            "baxis": {
             "endlinecolor": "#2a3f5f",
             "gridcolor": "white",
             "linecolor": "white",
             "minorgridcolor": "white",
             "startlinecolor": "#2a3f5f"
            },
            "type": "carpet"
           }
          ],
          "choropleth": [
           {
            "colorbar": {
             "outlinewidth": 0,
             "ticks": ""
            },
            "type": "choropleth"
           }
          ],
          "contour": [
           {
            "colorbar": {
             "outlinewidth": 0,
             "ticks": ""
            },
            "colorscale": [
             [
              0,
              "#0d0887"
             ],
             [
              0.1111111111111111,
              "#46039f"
             ],
             [
              0.2222222222222222,
              "#7201a8"
             ],
             [
              0.3333333333333333,
              "#9c179e"
             ],
             [
              0.4444444444444444,
              "#bd3786"
             ],
             [
              0.5555555555555556,
              "#d8576b"
             ],
             [
              0.6666666666666666,
              "#ed7953"
             ],
             [
              0.7777777777777778,
              "#fb9f3a"
             ],
             [
              0.8888888888888888,
              "#fdca26"
             ],
             [
              1,
              "#f0f921"
             ]
            ],
            "type": "contour"
           }
          ],
          "contourcarpet": [
           {
            "colorbar": {
             "outlinewidth": 0,
             "ticks": ""
            },
            "type": "contourcarpet"
           }
          ],
          "heatmap": [
           {
            "colorbar": {
             "outlinewidth": 0,
             "ticks": ""
            },
            "colorscale": [
             [
              0,
              "#0d0887"
             ],
             [
              0.1111111111111111,
              "#46039f"
             ],
             [
              0.2222222222222222,
              "#7201a8"
             ],
             [
              0.3333333333333333,
              "#9c179e"
             ],
             [
              0.4444444444444444,
              "#bd3786"
             ],
             [
              0.5555555555555556,
              "#d8576b"
             ],
             [
              0.6666666666666666,
              "#ed7953"
             ],
             [
              0.7777777777777778,
              "#fb9f3a"
             ],
             [
              0.8888888888888888,
              "#fdca26"
             ],
             [
              1,
              "#f0f921"
             ]
            ],
            "type": "heatmap"
           }
          ],
          "heatmapgl": [
           {
            "colorbar": {
             "outlinewidth": 0,
             "ticks": ""
            },
            "colorscale": [
             [
              0,
              "#0d0887"
             ],
             [
              0.1111111111111111,
              "#46039f"
             ],
             [
              0.2222222222222222,
              "#7201a8"
             ],
             [
              0.3333333333333333,
              "#9c179e"
             ],
             [
              0.4444444444444444,
              "#bd3786"
             ],
             [
              0.5555555555555556,
              "#d8576b"
             ],
             [
              0.6666666666666666,
              "#ed7953"
             ],
             [
              0.7777777777777778,
              "#fb9f3a"
             ],
             [
              0.8888888888888888,
              "#fdca26"
             ],
             [
              1,
              "#f0f921"
             ]
            ],
            "type": "heatmapgl"
           }
          ],
          "histogram": [
           {
            "marker": {
             "pattern": {
              "fillmode": "overlay",
              "size": 10,
              "solidity": 0.2
             }
            },
            "type": "histogram"
           }
          ],
          "histogram2d": [
           {
            "colorbar": {
             "outlinewidth": 0,
             "ticks": ""
            },
            "colorscale": [
             [
              0,
              "#0d0887"
             ],
             [
              0.1111111111111111,
              "#46039f"
             ],
             [
              0.2222222222222222,
              "#7201a8"
             ],
             [
              0.3333333333333333,
              "#9c179e"
             ],
             [
              0.4444444444444444,
              "#bd3786"
             ],
             [
              0.5555555555555556,
              "#d8576b"
             ],
             [
              0.6666666666666666,
              "#ed7953"
             ],
             [
              0.7777777777777778,
              "#fb9f3a"
             ],
             [
              0.8888888888888888,
              "#fdca26"
             ],
             [
              1,
              "#f0f921"
             ]
            ],
            "type": "histogram2d"
           }
          ],
          "histogram2dcontour": [
           {
            "colorbar": {
             "outlinewidth": 0,
             "ticks": ""
            },
            "colorscale": [
             [
              0,
              "#0d0887"
             ],
             [
              0.1111111111111111,
              "#46039f"
             ],
             [
              0.2222222222222222,
              "#7201a8"
             ],
             [
              0.3333333333333333,
              "#9c179e"
             ],
             [
              0.4444444444444444,
              "#bd3786"
             ],
             [
              0.5555555555555556,
              "#d8576b"
             ],
             [
              0.6666666666666666,
              "#ed7953"
             ],
             [
              0.7777777777777778,
              "#fb9f3a"
             ],
             [
              0.8888888888888888,
              "#fdca26"
             ],
             [
              1,
              "#f0f921"
             ]
            ],
            "type": "histogram2dcontour"
           }
          ],
          "mesh3d": [
           {
            "colorbar": {
             "outlinewidth": 0,
             "ticks": ""
            },
            "type": "mesh3d"
           }
          ],
          "parcoords": [
           {
            "line": {
             "colorbar": {
              "outlinewidth": 0,
              "ticks": ""
             }
            },
            "type": "parcoords"
           }
          ],
          "pie": [
           {
            "automargin": true,
            "type": "pie"
           }
          ],
          "scatter": [
           {
            "fillpattern": {
             "fillmode": "overlay",
             "size": 10,
             "solidity": 0.2
            },
            "type": "scatter"
           }
          ],
          "scatter3d": [
           {
            "line": {
             "colorbar": {
              "outlinewidth": 0,
              "ticks": ""
             }
            },
            "marker": {
             "colorbar": {
              "outlinewidth": 0,
              "ticks": ""
             }
            },
            "type": "scatter3d"
           }
          ],
          "scattercarpet": [
           {
            "marker": {
             "colorbar": {
              "outlinewidth": 0,
              "ticks": ""
             }
            },
            "type": "scattercarpet"
           }
          ],
          "scattergeo": [
           {
            "marker": {
             "colorbar": {
              "outlinewidth": 0,
              "ticks": ""
             }
            },
            "type": "scattergeo"
           }
          ],
          "scattergl": [
           {
            "marker": {
             "colorbar": {
              "outlinewidth": 0,
              "ticks": ""
             }
            },
            "type": "scattergl"
           }
          ],
          "scattermapbox": [
           {
            "marker": {
             "colorbar": {
              "outlinewidth": 0,
              "ticks": ""
             }
            },
            "type": "scattermapbox"
           }
          ],
          "scatterpolar": [
           {
            "marker": {
             "colorbar": {
              "outlinewidth": 0,
              "ticks": ""
             }
            },
            "type": "scatterpolar"
           }
          ],
          "scatterpolargl": [
           {
            "marker": {
             "colorbar": {
              "outlinewidth": 0,
              "ticks": ""
             }
            },
            "type": "scatterpolargl"
           }
          ],
          "scatterternary": [
           {
            "marker": {
             "colorbar": {
              "outlinewidth": 0,
              "ticks": ""
             }
            },
            "type": "scatterternary"
           }
          ],
          "surface": [
           {
            "colorbar": {
             "outlinewidth": 0,
             "ticks": ""
            },
            "colorscale": [
             [
              0,
              "#0d0887"
             ],
             [
              0.1111111111111111,
              "#46039f"
             ],
             [
              0.2222222222222222,
              "#7201a8"
             ],
             [
              0.3333333333333333,
              "#9c179e"
             ],
             [
              0.4444444444444444,
              "#bd3786"
             ],
             [
              0.5555555555555556,
              "#d8576b"
             ],
             [
              0.6666666666666666,
              "#ed7953"
             ],
             [
              0.7777777777777778,
              "#fb9f3a"
             ],
             [
              0.8888888888888888,
              "#fdca26"
             ],
             [
              1,
              "#f0f921"
             ]
            ],
            "type": "surface"
           }
          ],
          "table": [
           {
            "cells": {
             "fill": {
              "color": "#EBF0F8"
             },
             "line": {
              "color": "white"
             }
            },
            "header": {
             "fill": {
              "color": "#C8D4E3"
             },
             "line": {
              "color": "white"
             }
            },
            "type": "table"
           }
          ]
         },
         "layout": {
          "annotationdefaults": {
           "arrowcolor": "#2a3f5f",
           "arrowhead": 0,
           "arrowwidth": 1
          },
          "autotypenumbers": "strict",
          "coloraxis": {
           "colorbar": {
            "outlinewidth": 0,
            "ticks": ""
           }
          },
          "colorscale": {
           "diverging": [
            [
             0,
             "#8e0152"
            ],
            [
             0.1,
             "#c51b7d"
            ],
            [
             0.2,
             "#de77ae"
            ],
            [
             0.3,
             "#f1b6da"
            ],
            [
             0.4,
             "#fde0ef"
            ],
            [
             0.5,
             "#f7f7f7"
            ],
            [
             0.6,
             "#e6f5d0"
            ],
            [
             0.7,
             "#b8e186"
            ],
            [
             0.8,
             "#7fbc41"
            ],
            [
             0.9,
             "#4d9221"
            ],
            [
             1,
             "#276419"
            ]
           ],
           "sequential": [
            [
             0,
             "#0d0887"
            ],
            [
             0.1111111111111111,
             "#46039f"
            ],
            [
             0.2222222222222222,
             "#7201a8"
            ],
            [
             0.3333333333333333,
             "#9c179e"
            ],
            [
             0.4444444444444444,
             "#bd3786"
            ],
            [
             0.5555555555555556,
             "#d8576b"
            ],
            [
             0.6666666666666666,
             "#ed7953"
            ],
            [
             0.7777777777777778,
             "#fb9f3a"
            ],
            [
             0.8888888888888888,
             "#fdca26"
            ],
            [
             1,
             "#f0f921"
            ]
           ],
           "sequentialminus": [
            [
             0,
             "#0d0887"
            ],
            [
             0.1111111111111111,
             "#46039f"
            ],
            [
             0.2222222222222222,
             "#7201a8"
            ],
            [
             0.3333333333333333,
             "#9c179e"
            ],
            [
             0.4444444444444444,
             "#bd3786"
            ],
            [
             0.5555555555555556,
             "#d8576b"
            ],
            [
             0.6666666666666666,
             "#ed7953"
            ],
            [
             0.7777777777777778,
             "#fb9f3a"
            ],
            [
             0.8888888888888888,
             "#fdca26"
            ],
            [
             1,
             "#f0f921"
            ]
           ]
          },
          "colorway": [
           "#636efa",
           "#EF553B",
           "#00cc96",
           "#ab63fa",
           "#FFA15A",
           "#19d3f3",
           "#FF6692",
           "#B6E880",
           "#FF97FF",
           "#FECB52"
          ],
          "font": {
           "color": "#2a3f5f"
          },
          "geo": {
           "bgcolor": "white",
           "lakecolor": "white",
           "landcolor": "#E5ECF6",
           "showlakes": true,
           "showland": true,
           "subunitcolor": "white"
          },
          "hoverlabel": {
           "align": "left"
          },
          "hovermode": "closest",
          "mapbox": {
           "style": "light"
          },
          "paper_bgcolor": "white",
          "plot_bgcolor": "#E5ECF6",
          "polar": {
           "angularaxis": {
            "gridcolor": "white",
            "linecolor": "white",
            "ticks": ""
           },
           "bgcolor": "#E5ECF6",
           "radialaxis": {
            "gridcolor": "white",
            "linecolor": "white",
            "ticks": ""
           }
          },
          "scene": {
           "xaxis": {
            "backgroundcolor": "#E5ECF6",
            "gridcolor": "white",
            "gridwidth": 2,
            "linecolor": "white",
            "showbackground": true,
            "ticks": "",
            "zerolinecolor": "white"
           },
           "yaxis": {
            "backgroundcolor": "#E5ECF6",
            "gridcolor": "white",
            "gridwidth": 2,
            "linecolor": "white",
            "showbackground": true,
            "ticks": "",
            "zerolinecolor": "white"
           },
           "zaxis": {
            "backgroundcolor": "#E5ECF6",
            "gridcolor": "white",
            "gridwidth": 2,
            "linecolor": "white",
            "showbackground": true,
            "ticks": "",
            "zerolinecolor": "white"
           }
          },
          "shapedefaults": {
           "line": {
            "color": "#2a3f5f"
           }
          },
          "ternary": {
           "aaxis": {
            "gridcolor": "white",
            "linecolor": "white",
            "ticks": ""
           },
           "baxis": {
            "gridcolor": "white",
            "linecolor": "white",
            "ticks": ""
           },
           "bgcolor": "#E5ECF6",
           "caxis": {
            "gridcolor": "white",
            "linecolor": "white",
            "ticks": ""
           }
          },
          "title": {
           "x": 0.05
          },
          "xaxis": {
           "automargin": true,
           "gridcolor": "white",
           "linecolor": "white",
           "ticks": "",
           "title": {
            "standoff": 15
           },
           "zerolinecolor": "white",
           "zerolinewidth": 2
          },
          "yaxis": {
           "automargin": true,
           "gridcolor": "white",
           "linecolor": "white",
           "ticks": "",
           "title": {
            "standoff": 15
           },
           "zerolinecolor": "white",
           "zerolinewidth": 2
          }
         }
        },
        "title": {
         "text": "battery level (%)"
        },
        "xaxis": {
         "anchor": "y",
         "domain": [
          0,
          1
         ],
         "title": {
          "text": "date_picture"
         }
        },
        "yaxis": {
         "anchor": "x",
         "domain": [
          0,
          1
         ],
         "title": {
          "text": "battery"
         }
        }
       }
      },
      "text/html": [
       "<div>                            <div id=\"e8563cee-ebc6-4379-a867-6cf5219a4f8e\" class=\"plotly-graph-div\" style=\"height:525px; width:100%;\"></div>            <script type=\"text/javascript\">                require([\"plotly\"], function(Plotly) {                    window.PLOTLYENV=window.PLOTLYENV || {};                                    if (document.getElementById(\"e8563cee-ebc6-4379-a867-6cf5219a4f8e\")) {                    Plotly.newPlot(                        \"e8563cee-ebc6-4379-a867-6cf5219a4f8e\",                        [{\"hovertemplate\":\"date_picture=%{x}<br>battery=%{y}<extra></extra>\",\"legendgroup\":\"\",\"marker\":{\"color\":\"#636efa\",\"symbol\":\"circle\"},\"mode\":\"markers\",\"name\":\"\",\"orientation\":\"v\",\"showlegend\":false,\"x\":[\"2022-04-09T13:40:12\",\"2022-04-09T13:35:12\",\"2022-04-09T13:30:11\",\"2022-04-09T13:25:14\",\"2022-04-09T13:20:12\",\"2022-04-09T13:15:11\",\"2022-04-09T13:10:14\",\"2022-04-09T13:05:14\",\"2022-04-09T13:00:12\",\"2022-04-09T12:55:12\",\"2022-04-09T12:50:11\",\"2022-04-09T12:45:12\",\"2022-04-09T12:40:11\",\"2022-04-09T12:35:12\",\"2022-04-09T12:30:11\",\"2022-04-09T12:25:11\",\"2022-04-09T12:20:12\",\"2022-04-09T12:15:12\",\"2022-04-09T12:10:11\",\"2022-04-09T12:05:12\",\"2022-04-09T12:00:12\",\"2022-04-09T11:55:12\",\"2022-04-09T11:50:12\",\"2022-04-09T11:45:12\",\"2022-04-09T11:40:11\",\"2022-04-09T11:35:12\",\"2022-04-09T11:30:12\",\"2022-04-09T11:25:12\",\"2022-04-09T11:20:12\",\"2022-04-09T11:10:12\",\"2022-04-09T11:05:11\",\"2022-04-09T11:00:12\",\"2022-04-09T10:55:12\",\"2022-04-09T10:50:11\",\"2022-04-09T10:45:12\",\"2022-04-09T10:40:11\",\"2022-04-09T10:35:11\",\"2022-04-09T10:30:11\",\"2022-04-09T10:25:11\",\"2022-04-09T10:20:11\",\"2022-04-09T10:15:11\",\"2022-04-09T10:10:12\",\"2022-04-09T10:05:11\",\"2022-04-09T10:00:11\",\"2022-04-09T09:20:12\",\"2022-04-09T09:14:22\",\"2022-04-09T09:10:10\",\"2022-04-09T09:00:14\",\"2022-04-09T08:59:07\",\"2022-04-08T18:41:49\",\"2022-04-08T18:22:11\",\"2022-04-08T18:20:11\",\"2022-04-08T18:15:12\",\"2022-04-08T18:10:12\",\"2022-04-08T17:45:12\",\"2022-04-08T17:40:11\",\"2022-04-08T17:35:24\",\"2022-04-08T17:17:10\",\"2022-04-08T17:15:12\",\"2022-04-08T17:10:12\",\"2022-04-08T17:05:11\",\"2022-04-08T17:00:11\",\"2022-04-08T16:55:12\",\"2022-04-08T16:50:11\",\"2022-04-08T16:45:11\",\"2022-04-08T16:40:12\",\"2022-04-08T16:35:11\",\"2022-04-08T16:30:12\",\"2022-04-08T16:25:12\",\"2022-04-08T16:20:12\",\"2022-04-08T16:15:12\",\"2022-04-08T16:10:12\",\"2022-04-08T16:06:29\",\"2022-04-08T16:05:08\",\"2022-04-08T15:40:11\",\"2022-04-08T15:35:12\",\"2022-04-08T15:30:02\",\"2022-04-08T15:17:29\",\"2022-04-08T15:03:31\",\"2022-04-08T14:48:42\",\"2022-04-08T14:30:03\",\"2022-04-08T14:15:04\",\"2022-04-08T14:00:03\",\"2022-04-08T13:45:37\",\"2022-04-08T13:30:02\",\"2022-04-08T13:15:02\",\"2022-04-08T13:00:02\",\"2022-04-08T12:45:02\",\"2022-04-08T12:30:02\",\"2022-04-08T12:15:02\",\"2022-04-08T12:00:02\",\"2022-04-08T11:45:10\",\"2022-04-08T11:30:04\",\"2022-04-08T11:15:02\",\"2022-04-08T11:00:03\",\"2022-04-08T10:45:02\",\"2022-04-08T10:30:02\",\"2022-04-08T10:15:02\",\"2022-04-08T10:00:02\",\"2022-04-08T09:45:04\",\"2022-04-08T09:32:24\",\"2022-04-08T09:15:05\",\"2022-04-08T09:02:21\",\"2022-04-08T08:49:40\",\"2022-04-08T08:31:44\",\"2022-04-08T08:15:04\",\"2022-04-07T20:49:10\",\"2022-04-07T20:47:19\",\"2022-04-07T20:45:56\",\"2022-04-07T20:30:03\",\"2022-04-07T20:15:02\",\"2022-04-07T20:01:10\",\"2022-04-07T19:45:03\",\"2022-04-07T19:34:03\",\"2022-04-07T19:19:02\",\"2022-04-07T19:05:04\",\"2022-04-07T18:42:20\",\"2022-04-07T18:26:11\",\"2022-04-07T18:22:17\",\"2022-04-07T18:05:20\",\"2022-04-07T18:02:22\",\"2022-04-07T17:59:06\",\"2022-04-07T17:58:50\",\"2022-04-07T17:55:54\",\"2022-04-09T20:16:04\",\"2022-04-09T20:21:12\"],\"xaxis\":\"x\",\"y\":[65.0,65.0,65.0,65.0,65.0,65.0,65.0,66.0,66.0,66.0,66.0,66.0,66.0,66.0,66.0,66.0,66.0,66.0,67.0,67.0,67.0,67.0,66.0,67.0,67.0,67.0,67.0,67.0,68.0,67.0,67.0,68.0,68.0,68.0,68.0,68.0,68.0,68.0,68.0,68.0,68.0,68.0,68.0,67.0,71.0,67.0,71.0,70.0,73.0,71.0,72.0,73.0,73.0,74.0,73.0,74.0,74.0,73.0,74.0,74.0,74.0,74.0,74.0,74.0,74.0,75.0,75.0,75.0,75.0,75.0,75.0,75.0,73.0,75.0,77.0,78.0,76.0,77.0,77.0,77.0,77.0,78.0,78.0,78.0,78.0,78.0,79.0,78.0,79.0,79.0,79.0,79.0,79.0,79.0,79.0,79.0,80.0,80.0,80.0,80.0,81.0,80.0,81.0,81.0,82.0,82.0,80.0,80.0,80.0,80.0,81.0,81.0,81.0,81.0,79.0,82.0,83.0,85.0,84.0,85.0,85.0,85.0,86.0,86.0,66.0,68.0],\"yaxis\":\"y\",\"type\":\"scatter\"},{\"hovertemplate\":\"<b>Rolling mean trendline</b><br><br>date_picture=%{x}<br>battery=%{y} <b>(trend)</b><extra></extra>\",\"legendgroup\":\"\",\"marker\":{\"color\":\"#636efa\",\"symbol\":\"circle\"},\"mode\":\"lines\",\"name\":\"\",\"showlegend\":false,\"x\":[\"2022-04-07T17:55:54\",\"2022-04-07T17:58:50\",\"2022-04-07T17:59:06\",\"2022-04-07T18:02:22\",\"2022-04-07T18:05:20\",\"2022-04-07T18:22:17\",\"2022-04-07T18:26:11\",\"2022-04-07T18:42:20\",\"2022-04-07T19:05:04\",\"2022-04-07T19:19:02\",\"2022-04-07T19:34:03\",\"2022-04-07T19:45:03\",\"2022-04-07T20:01:10\",\"2022-04-07T20:15:02\",\"2022-04-07T20:30:03\",\"2022-04-07T20:45:56\",\"2022-04-07T20:47:19\",\"2022-04-07T20:49:10\",\"2022-04-08T08:15:04\",\"2022-04-08T08:31:44\",\"2022-04-08T08:49:40\",\"2022-04-08T09:02:21\",\"2022-04-08T09:15:05\",\"2022-04-08T09:32:24\",\"2022-04-08T09:45:04\",\"2022-04-08T10:00:02\",\"2022-04-08T10:15:02\",\"2022-04-08T10:30:02\",\"2022-04-08T10:45:02\",\"2022-04-08T11:00:03\",\"2022-04-08T11:15:02\",\"2022-04-08T11:30:04\",\"2022-04-08T11:45:10\",\"2022-04-08T12:00:02\",\"2022-04-08T12:15:02\",\"2022-04-08T12:30:02\",\"2022-04-08T12:45:02\",\"2022-04-08T13:00:02\",\"2022-04-08T13:15:02\",\"2022-04-08T13:30:02\",\"2022-04-08T13:45:37\",\"2022-04-08T14:00:03\",\"2022-04-08T14:15:04\",\"2022-04-08T14:30:03\",\"2022-04-08T14:48:42\",\"2022-04-08T15:03:31\",\"2022-04-08T15:17:29\",\"2022-04-08T15:30:02\",\"2022-04-08T15:35:12\",\"2022-04-08T15:40:11\",\"2022-04-08T16:05:08\",\"2022-04-08T16:06:29\",\"2022-04-08T16:10:12\",\"2022-04-08T16:15:12\",\"2022-04-08T16:20:12\",\"2022-04-08T16:25:12\",\"2022-04-08T16:30:12\",\"2022-04-08T16:35:11\",\"2022-04-08T16:40:12\",\"2022-04-08T16:45:11\",\"2022-04-08T16:50:11\",\"2022-04-08T16:55:12\",\"2022-04-08T17:00:11\",\"2022-04-08T17:05:11\",\"2022-04-08T17:10:12\",\"2022-04-08T17:15:12\",\"2022-04-08T17:17:10\",\"2022-04-08T17:35:24\",\"2022-04-08T17:40:11\",\"2022-04-08T17:45:12\",\"2022-04-08T18:10:12\",\"2022-04-08T18:15:12\",\"2022-04-08T18:20:11\",\"2022-04-08T18:22:11\",\"2022-04-08T18:41:49\",\"2022-04-09T08:59:07\",\"2022-04-09T09:00:14\",\"2022-04-09T09:10:10\",\"2022-04-09T09:14:22\",\"2022-04-09T09:20:12\",\"2022-04-09T10:00:11\",\"2022-04-09T10:05:11\",\"2022-04-09T10:10:12\",\"2022-04-09T10:15:11\",\"2022-04-09T10:20:11\",\"2022-04-09T10:25:11\",\"2022-04-09T10:30:11\",\"2022-04-09T10:35:11\",\"2022-04-09T10:40:11\",\"2022-04-09T10:45:12\",\"2022-04-09T10:50:11\",\"2022-04-09T10:55:12\",\"2022-04-09T11:00:12\",\"2022-04-09T11:05:11\",\"2022-04-09T11:10:12\",\"2022-04-09T11:20:12\",\"2022-04-09T11:25:12\",\"2022-04-09T11:30:12\",\"2022-04-09T11:35:12\",\"2022-04-09T11:40:11\",\"2022-04-09T11:45:12\",\"2022-04-09T11:50:12\",\"2022-04-09T11:55:12\",\"2022-04-09T12:00:12\",\"2022-04-09T12:05:12\",\"2022-04-09T12:10:11\",\"2022-04-09T12:15:12\",\"2022-04-09T12:20:12\",\"2022-04-09T12:25:11\",\"2022-04-09T12:30:11\",\"2022-04-09T12:35:12\",\"2022-04-09T12:40:11\",\"2022-04-09T12:45:12\",\"2022-04-09T12:50:11\",\"2022-04-09T12:55:12\",\"2022-04-09T13:00:12\",\"2022-04-09T13:05:14\",\"2022-04-09T13:10:14\",\"2022-04-09T13:15:11\",\"2022-04-09T13:20:12\",\"2022-04-09T13:25:14\",\"2022-04-09T13:30:11\",\"2022-04-09T13:35:12\",\"2022-04-09T13:40:12\",\"2022-04-09T20:16:04\",\"2022-04-09T20:21:12\"],\"xaxis\":\"x\",\"y\":[null,null,null,null,85.4,85.0,84.8,84.4,83.8,82.6,82.0,81.2,80.8,80.6,80.8,80.6,80.4,80.2,80.4,80.8,81.0,81.2,81.2,81.0,80.6,80.4,80.2,80.2,79.8,79.6,79.4,79.2,79.0,79.0,79.0,79.0,78.8,78.8,78.6,78.4,78.2,78.2,78.0,77.8,77.6,77.4,77.2,76.8,77.0,77.0,76.6,75.8,75.6,75.0,74.6,74.6,75.0,75.0,75.0,74.8,74.6,74.4,74.2,74.0,74.0,74.0,73.8,73.8,73.8,73.6,73.6,73.6,73.4,73.0,72.6,72.4,71.8,71.4,70.4,70.4,69.2,68.8,68.2,68.4,67.8,68.0,68.0,68.0,68.0,68.0,68.0,68.0,68.0,67.8,67.6,67.6,67.4,67.2,67.2,67.2,67.0,66.8,66.8,66.8,66.8,66.8,66.8,66.6,66.4,66.2,66.0,66.0,66.0,66.0,66.0,66.0,66.0,65.8,65.6,65.4,65.2,65.0,65.0,65.0,65.2,65.8],\"yaxis\":\"y\",\"type\":\"scatter\"}],                        {\"template\":{\"data\":{\"histogram2dcontour\":[{\"type\":\"histogram2dcontour\",\"colorbar\":{\"outlinewidth\":0,\"ticks\":\"\"},\"colorscale\":[[0.0,\"#0d0887\"],[0.1111111111111111,\"#46039f\"],[0.2222222222222222,\"#7201a8\"],[0.3333333333333333,\"#9c179e\"],[0.4444444444444444,\"#bd3786\"],[0.5555555555555556,\"#d8576b\"],[0.6666666666666666,\"#ed7953\"],[0.7777777777777778,\"#fb9f3a\"],[0.8888888888888888,\"#fdca26\"],[1.0,\"#f0f921\"]]}],\"choropleth\":[{\"type\":\"choropleth\",\"colorbar\":{\"outlinewidth\":0,\"ticks\":\"\"}}],\"histogram2d\":[{\"type\":\"histogram2d\",\"colorbar\":{\"outlinewidth\":0,\"ticks\":\"\"},\"colorscale\":[[0.0,\"#0d0887\"],[0.1111111111111111,\"#46039f\"],[0.2222222222222222,\"#7201a8\"],[0.3333333333333333,\"#9c179e\"],[0.4444444444444444,\"#bd3786\"],[0.5555555555555556,\"#d8576b\"],[0.6666666666666666,\"#ed7953\"],[0.7777777777777778,\"#fb9f3a\"],[0.8888888888888888,\"#fdca26\"],[1.0,\"#f0f921\"]]}],\"heatmap\":[{\"type\":\"heatmap\",\"colorbar\":{\"outlinewidth\":0,\"ticks\":\"\"},\"colorscale\":[[0.0,\"#0d0887\"],[0.1111111111111111,\"#46039f\"],[0.2222222222222222,\"#7201a8\"],[0.3333333333333333,\"#9c179e\"],[0.4444444444444444,\"#bd3786\"],[0.5555555555555556,\"#d8576b\"],[0.6666666666666666,\"#ed7953\"],[0.7777777777777778,\"#fb9f3a\"],[0.8888888888888888,\"#fdca26\"],[1.0,\"#f0f921\"]]}],\"heatmapgl\":[{\"type\":\"heatmapgl\",\"colorbar\":{\"outlinewidth\":0,\"ticks\":\"\"},\"colorscale\":[[0.0,\"#0d0887\"],[0.1111111111111111,\"#46039f\"],[0.2222222222222222,\"#7201a8\"],[0.3333333333333333,\"#9c179e\"],[0.4444444444444444,\"#bd3786\"],[0.5555555555555556,\"#d8576b\"],[0.6666666666666666,\"#ed7953\"],[0.7777777777777778,\"#fb9f3a\"],[0.8888888888888888,\"#fdca26\"],[1.0,\"#f0f921\"]]}],\"contourcarpet\":[{\"type\":\"contourcarpet\",\"colorbar\":{\"outlinewidth\":0,\"ticks\":\"\"}}],\"contour\":[{\"type\":\"contour\",\"colorbar\":{\"outlinewidth\":0,\"ticks\":\"\"},\"colorscale\":[[0.0,\"#0d0887\"],[0.1111111111111111,\"#46039f\"],[0.2222222222222222,\"#7201a8\"],[0.3333333333333333,\"#9c179e\"],[0.4444444444444444,\"#bd3786\"],[0.5555555555555556,\"#d8576b\"],[0.6666666666666666,\"#ed7953\"],[0.7777777777777778,\"#fb9f3a\"],[0.8888888888888888,\"#fdca26\"],[1.0,\"#f0f921\"]]}],\"surface\":[{\"type\":\"surface\",\"colorbar\":{\"outlinewidth\":0,\"ticks\":\"\"},\"colorscale\":[[0.0,\"#0d0887\"],[0.1111111111111111,\"#46039f\"],[0.2222222222222222,\"#7201a8\"],[0.3333333333333333,\"#9c179e\"],[0.4444444444444444,\"#bd3786\"],[0.5555555555555556,\"#d8576b\"],[0.6666666666666666,\"#ed7953\"],[0.7777777777777778,\"#fb9f3a\"],[0.8888888888888888,\"#fdca26\"],[1.0,\"#f0f921\"]]}],\"mesh3d\":[{\"type\":\"mesh3d\",\"colorbar\":{\"outlinewidth\":0,\"ticks\":\"\"}}],\"scatter\":[{\"fillpattern\":{\"fillmode\":\"overlay\",\"size\":10,\"solidity\":0.2},\"type\":\"scatter\"}],\"parcoords\":[{\"type\":\"parcoords\",\"line\":{\"colorbar\":{\"outlinewidth\":0,\"ticks\":\"\"}}}],\"scatterpolargl\":[{\"type\":\"scatterpolargl\",\"marker\":{\"colorbar\":{\"outlinewidth\":0,\"ticks\":\"\"}}}],\"bar\":[{\"error_x\":{\"color\":\"#2a3f5f\"},\"error_y\":{\"color\":\"#2a3f5f\"},\"marker\":{\"line\":{\"color\":\"#E5ECF6\",\"width\":0.5},\"pattern\":{\"fillmode\":\"overlay\",\"size\":10,\"solidity\":0.2}},\"type\":\"bar\"}],\"scattergeo\":[{\"type\":\"scattergeo\",\"marker\":{\"colorbar\":{\"outlinewidth\":0,\"ticks\":\"\"}}}],\"scatterpolar\":[{\"type\":\"scatterpolar\",\"marker\":{\"colorbar\":{\"outlinewidth\":0,\"ticks\":\"\"}}}],\"histogram\":[{\"marker\":{\"pattern\":{\"fillmode\":\"overlay\",\"size\":10,\"solidity\":0.2}},\"type\":\"histogram\"}],\"scattergl\":[{\"type\":\"scattergl\",\"marker\":{\"colorbar\":{\"outlinewidth\":0,\"ticks\":\"\"}}}],\"scatter3d\":[{\"type\":\"scatter3d\",\"line\":{\"colorbar\":{\"outlinewidth\":0,\"ticks\":\"\"}},\"marker\":{\"colorbar\":{\"outlinewidth\":0,\"ticks\":\"\"}}}],\"scattermapbox\":[{\"type\":\"scattermapbox\",\"marker\":{\"colorbar\":{\"outlinewidth\":0,\"ticks\":\"\"}}}],\"scatterternary\":[{\"type\":\"scatterternary\",\"marker\":{\"colorbar\":{\"outlinewidth\":0,\"ticks\":\"\"}}}],\"scattercarpet\":[{\"type\":\"scattercarpet\",\"marker\":{\"colorbar\":{\"outlinewidth\":0,\"ticks\":\"\"}}}],\"carpet\":[{\"aaxis\":{\"endlinecolor\":\"#2a3f5f\",\"gridcolor\":\"white\",\"linecolor\":\"white\",\"minorgridcolor\":\"white\",\"startlinecolor\":\"#2a3f5f\"},\"baxis\":{\"endlinecolor\":\"#2a3f5f\",\"gridcolor\":\"white\",\"linecolor\":\"white\",\"minorgridcolor\":\"white\",\"startlinecolor\":\"#2a3f5f\"},\"type\":\"carpet\"}],\"table\":[{\"cells\":{\"fill\":{\"color\":\"#EBF0F8\"},\"line\":{\"color\":\"white\"}},\"header\":{\"fill\":{\"color\":\"#C8D4E3\"},\"line\":{\"color\":\"white\"}},\"type\":\"table\"}],\"barpolar\":[{\"marker\":{\"line\":{\"color\":\"#E5ECF6\",\"width\":0.5},\"pattern\":{\"fillmode\":\"overlay\",\"size\":10,\"solidity\":0.2}},\"type\":\"barpolar\"}],\"pie\":[{\"automargin\":true,\"type\":\"pie\"}]},\"layout\":{\"autotypenumbers\":\"strict\",\"colorway\":[\"#636efa\",\"#EF553B\",\"#00cc96\",\"#ab63fa\",\"#FFA15A\",\"#19d3f3\",\"#FF6692\",\"#B6E880\",\"#FF97FF\",\"#FECB52\"],\"font\":{\"color\":\"#2a3f5f\"},\"hovermode\":\"closest\",\"hoverlabel\":{\"align\":\"left\"},\"paper_bgcolor\":\"white\",\"plot_bgcolor\":\"#E5ECF6\",\"polar\":{\"bgcolor\":\"#E5ECF6\",\"angularaxis\":{\"gridcolor\":\"white\",\"linecolor\":\"white\",\"ticks\":\"\"},\"radialaxis\":{\"gridcolor\":\"white\",\"linecolor\":\"white\",\"ticks\":\"\"}},\"ternary\":{\"bgcolor\":\"#E5ECF6\",\"aaxis\":{\"gridcolor\":\"white\",\"linecolor\":\"white\",\"ticks\":\"\"},\"baxis\":{\"gridcolor\":\"white\",\"linecolor\":\"white\",\"ticks\":\"\"},\"caxis\":{\"gridcolor\":\"white\",\"linecolor\":\"white\",\"ticks\":\"\"}},\"coloraxis\":{\"colorbar\":{\"outlinewidth\":0,\"ticks\":\"\"}},\"colorscale\":{\"sequential\":[[0.0,\"#0d0887\"],[0.1111111111111111,\"#46039f\"],[0.2222222222222222,\"#7201a8\"],[0.3333333333333333,\"#9c179e\"],[0.4444444444444444,\"#bd3786\"],[0.5555555555555556,\"#d8576b\"],[0.6666666666666666,\"#ed7953\"],[0.7777777777777778,\"#fb9f3a\"],[0.8888888888888888,\"#fdca26\"],[1.0,\"#f0f921\"]],\"sequentialminus\":[[0.0,\"#0d0887\"],[0.1111111111111111,\"#46039f\"],[0.2222222222222222,\"#7201a8\"],[0.3333333333333333,\"#9c179e\"],[0.4444444444444444,\"#bd3786\"],[0.5555555555555556,\"#d8576b\"],[0.6666666666666666,\"#ed7953\"],[0.7777777777777778,\"#fb9f3a\"],[0.8888888888888888,\"#fdca26\"],[1.0,\"#f0f921\"]],\"diverging\":[[0,\"#8e0152\"],[0.1,\"#c51b7d\"],[0.2,\"#de77ae\"],[0.3,\"#f1b6da\"],[0.4,\"#fde0ef\"],[0.5,\"#f7f7f7\"],[0.6,\"#e6f5d0\"],[0.7,\"#b8e186\"],[0.8,\"#7fbc41\"],[0.9,\"#4d9221\"],[1,\"#276419\"]]},\"xaxis\":{\"gridcolor\":\"white\",\"linecolor\":\"white\",\"ticks\":\"\",\"title\":{\"standoff\":15},\"zerolinecolor\":\"white\",\"automargin\":true,\"zerolinewidth\":2},\"yaxis\":{\"gridcolor\":\"white\",\"linecolor\":\"white\",\"ticks\":\"\",\"title\":{\"standoff\":15},\"zerolinecolor\":\"white\",\"automargin\":true,\"zerolinewidth\":2},\"scene\":{\"xaxis\":{\"backgroundcolor\":\"#E5ECF6\",\"gridcolor\":\"white\",\"linecolor\":\"white\",\"showbackground\":true,\"ticks\":\"\",\"zerolinecolor\":\"white\",\"gridwidth\":2},\"yaxis\":{\"backgroundcolor\":\"#E5ECF6\",\"gridcolor\":\"white\",\"linecolor\":\"white\",\"showbackground\":true,\"ticks\":\"\",\"zerolinecolor\":\"white\",\"gridwidth\":2},\"zaxis\":{\"backgroundcolor\":\"#E5ECF6\",\"gridcolor\":\"white\",\"linecolor\":\"white\",\"showbackground\":true,\"ticks\":\"\",\"zerolinecolor\":\"white\",\"gridwidth\":2}},\"shapedefaults\":{\"line\":{\"color\":\"#2a3f5f\"}},\"annotationdefaults\":{\"arrowcolor\":\"#2a3f5f\",\"arrowhead\":0,\"arrowwidth\":1},\"geo\":{\"bgcolor\":\"white\",\"landcolor\":\"#E5ECF6\",\"subunitcolor\":\"white\",\"showland\":true,\"showlakes\":true,\"lakecolor\":\"white\"},\"title\":{\"x\":0.05},\"mapbox\":{\"style\":\"light\"}}},\"xaxis\":{\"anchor\":\"y\",\"domain\":[0.0,1.0],\"title\":{\"text\":\"date_picture\"}},\"yaxis\":{\"anchor\":\"x\",\"domain\":[0.0,1.0],\"title\":{\"text\":\"battery\"}},\"legend\":{\"tracegroupgap\":0},\"title\":{\"text\":\"battery level (%)\"}},                        {\"responsive\": true}                    ).then(function(){\n",
       "                            \n",
       "var gd = document.getElementById('e8563cee-ebc6-4379-a867-6cf5219a4f8e');\n",
       "var x = new MutationObserver(function (mutations, observer) {{\n",
       "        var display = window.getComputedStyle(gd).display;\n",
       "        if (!display || display === 'none') {{\n",
       "            console.log([gd, 'removed!']);\n",
       "            Plotly.purge(gd);\n",
       "            observer.disconnect();\n",
       "        }}\n",
       "}});\n",
       "\n",
       "// Listen for the removal of the full notebook cells\n",
       "var notebookContainer = gd.closest('#notebook-container');\n",
       "if (notebookContainer) {{\n",
       "    x.observe(notebookContainer, {childList: true});\n",
       "}}\n",
       "\n",
       "// Listen for the clearing of the current output cell\n",
       "var outputEl = gd.closest('.output');\n",
       "if (outputEl) {{\n",
       "    x.observe(outputEl, {childList: true});\n",
       "}}\n",
       "\n",
       "                        })                };                });            </script>        </div>"
      ]
     },
     "metadata": {},
     "output_type": "display_data"
    }
   ],
   "source": [
    "fig = px.scatter(results, x=\"date_picture\", y=\"battery\", trendline=\"rolling\", trendline_options=dict(window=5), title=\"battery level (%)\")\n",
    "fig.show()"
   ]
  },
  {
   "cell_type": "code",
   "execution_count": null,
   "metadata": {},
   "outputs": [],
   "source": []
  },
  {
   "cell_type": "code",
   "execution_count": null,
   "metadata": {},
   "outputs": [],
   "source": []
  }
 ],
 "metadata": {
  "interpreter": {
   "hash": "e5db45683f43fc875e2077b4d9eba56de72425463a8ab0b657bb0acb5d97f8b6"
  },
  "kernelspec": {
   "display_name": "Python 3.9.6 64-bit ('venv_perso')",
   "language": "python",
   "name": "python3"
  },
  "language_info": {
   "codemirror_mode": {
    "name": "ipython",
    "version": 3
   },
   "file_extension": ".py",
   "mimetype": "text/x-python",
   "name": "python",
   "nbconvert_exporter": "python",
   "pygments_lexer": "ipython3",
   "version": "3.9.6"
  },
  "orig_nbformat": 4
 },
 "nbformat": 4,
 "nbformat_minor": 2
}
